{
 "metadata": {
  "language_info": {
   "codemirror_mode": {
    "name": "ipython",
    "version": 3
   },
   "file_extension": ".py",
   "mimetype": "text/x-python",
   "name": "python",
   "nbconvert_exporter": "python",
   "pygments_lexer": "ipython3",
   "version": "3.7.5-final"
  },
  "orig_nbformat": 2,
  "kernelspec": {
   "name": "python3",
   "display_name": "Python 3",
   "language": "python"
  }
 },
 "nbformat": 4,
 "nbformat_minor": 2,
 "cells": [
  {
   "cell_type": "code",
   "execution_count": 4,
   "metadata": {},
   "outputs": [],
   "source": [
    "import pandas as pd"
   ]
  },
  {
   "cell_type": "code",
   "execution_count": 34,
   "metadata": {},
   "outputs": [
    {
     "output_type": "execute_result",
     "data": {
      "text/plain": [
       "                                                                100, 0.0  \\\n",
       "ChainHashMap           {'delete': 1.4299999999999999e-06, 'get': 1.42...   \n",
       "CuckooHashMap          {'delete': 1.6699999999999999e-06, 'get': 1.66...   \n",
       "OpenAddressingHashMap  {'delete': 1.1899999999999998e-06, 'get': 1.66...   \n",
       "\n",
       "                                                                100, 0.1  \\\n",
       "ChainHashMap           {'delete': 3.1e-06, 'get': 1.6699999999999999e...   \n",
       "CuckooHashMap          {'delete': 2.1499999999999997e-06, 'get': 1.91...   \n",
       "OpenAddressingHashMap  {'delete': 2.1499999999999997e-06, 'get': 1.66...   \n",
       "\n",
       "                                                               100, 0.25  \\\n",
       "ChainHashMap           {'delete': 2.62e-06, 'get': 1.6699999999999999...   \n",
       "CuckooHashMap          {'delete': 2.3799999999999997e-06, 'get': 1.42...   \n",
       "OpenAddressingHashMap  {'delete': 1.91e-06, 'get': 1.6699999999999999...   \n",
       "\n",
       "                                                                100, 0.5  \\\n",
       "ChainHashMap           {'delete': 2.62e-06, 'get': 2.1499999999999997...   \n",
       "CuckooHashMap          {'delete': 1.91e-06, 'get': 1.6699999999999999...   \n",
       "OpenAddressingHashMap  {'delete': 2.1499999999999997e-06, 'get': 1.42...   \n",
       "\n",
       "                                                               100, 0.75  \\\n",
       "ChainHashMap           {'delete': 2.62e-06, 'get': 2.1499999999999997...   \n",
       "CuckooHashMap          {'delete': 1.91e-06, 'get': 1.91e-06, 'insert'...   \n",
       "OpenAddressingHashMap  {'delete': 1.91e-06, 'get': 1.4299999999999999...   \n",
       "\n",
       "                                                                100, 0.9  \\\n",
       "ChainHashMap           {'delete': 2.62e-06, 'get': 2.1499999999999997...   \n",
       "CuckooHashMap          {'delete': 2.1499999999999997e-06, 'get': 2.14...   \n",
       "OpenAddressingHashMap  {'delete': 2.3799999999999997e-06, 'get': 1.91...   \n",
       "\n",
       "                                                               100, 0.99  \\\n",
       "ChainHashMap           {'delete': 1.216e-05, 'get': 1.91e-06, 'insert...   \n",
       "CuckooHashMap          {'delete': 1.91e-06, 'get': 2.1499999999999997...   \n",
       "OpenAddressingHashMap  {'delete': 2.1499999999999997e-06, 'get': 1.91...   \n",
       "\n",
       "                                                                100, 1.0  \\\n",
       "ChainHashMap           {'delete': 2.62e-06, 'get': 1.6699999999999999...   \n",
       "CuckooHashMap          {'delete': 2.1499999999999997e-06, 'get': 1.91...   \n",
       "OpenAddressingHashMap  {'delete': 1.1920000000000001e-05, 'get': 2.14...   \n",
       "\n",
       "                                                               1000, 0.0  \\\n",
       "ChainHashMap           {'delete': 1.1899999999999998e-06, 'get': 1.91...   \n",
       "CuckooHashMap          {'delete': 1.91e-06, 'get': 1.91e-06, 'insert'...   \n",
       "OpenAddressingHashMap  {'delete': 1.6699999999999999e-06, 'get': 1.91...   \n",
       "\n",
       "                                                               1000, 0.1  ...  \\\n",
       "ChainHashMap           {'delete': 3.6e-05, 'get': 1.5260000000000003e...  ...   \n",
       "CuckooHashMap          {'delete': 2.3799999999999997e-06, 'get': 5.71...  ...   \n",
       "OpenAddressingHashMap  {'delete': 2.8599999999999997e-06, 'get': 1.66...  ...   \n",
       "\n",
       "                                                              9800, 0.99  \\\n",
       "ChainHashMap           {'delete': 9.06e-06, 'get': 6.6799999999999996...   \n",
       "CuckooHashMap          {'delete': 7.3899999999999995e-06, 'get': 6.91...   \n",
       "OpenAddressingHashMap  {'delete': 7.87e-06, 'get': 6.44e-06, 'insert'...   \n",
       "\n",
       "                                                               9800, 1.0  \\\n",
       "ChainHashMap           {'delete': 8.58e-06, 'get': 6.6799999999999996...   \n",
       "CuckooHashMap          {'delete': 7.15e-06, 'get': 5.7199999999999994...   \n",
       "OpenAddressingHashMap  {'delete': 7.63e-06, 'get': 5.96e-06, 'insert'...   \n",
       "\n",
       "                                                               9900, 0.0  \\\n",
       "ChainHashMap           {'delete': 1.4299999999999999e-06, 'get': 2.85...   \n",
       "CuckooHashMap          {'delete': 4.29e-06, 'get': 2.3799999999999997...   \n",
       "OpenAddressingHashMap  {'delete': 3.3399999999999998e-06, 'get': 2.85...   \n",
       "\n",
       "                                                               9900, 0.1  \\\n",
       "ChainHashMap           {'delete': 5.7199999999999994e-06, 'get': 4.53...   \n",
       "CuckooHashMap          {'delete': 7.63e-06, 'get': 5.25e-06, 'insert'...   \n",
       "OpenAddressingHashMap  {'delete': 6.2e-06, 'get': 4.29e-06, 'insert':...   \n",
       "\n",
       "                                                              9900, 0.25  \\\n",
       "ChainHashMap           {'delete': 7.63e-06, 'get': 5.48e-06, 'insert'...   \n",
       "CuckooHashMap          {'delete': 7.3899999999999995e-06, 'get': 5.96...   \n",
       "OpenAddressingHashMap  {'delete': 5.25e-06, 'get': 4.29e-06, 'insert'...   \n",
       "\n",
       "                                                               9900, 0.5  \\\n",
       "ChainHashMap           {'delete': 9.78e-06, 'get': 6.44e-06, 'insert'...   \n",
       "CuckooHashMap          {'delete': 8.34e-06, 'get': 6.6799999999999996...   \n",
       "OpenAddressingHashMap  {'delete': 7.3899999999999995e-06, 'get': 5.48...   \n",
       "\n",
       "                                                              9900, 0.75  \\\n",
       "ChainHashMap           {'delete': 9.3e-06, 'get': 6.44e-06, 'insert':...   \n",
       "CuckooHashMap          {'delete': 9.3e-06, 'get': 6.44e-06, 'insert':...   \n",
       "OpenAddressingHashMap  {'delete': 7.87e-06, 'get': 6.6799999999999996...   \n",
       "\n",
       "                                                               9900, 0.9  \\\n",
       "ChainHashMap           {'delete': 9.3e-06, 'get': 7.3899999999999995e...   \n",
       "CuckooHashMap          {'delete': 6.91e-06, 'get': 6.6799999999999996...   \n",
       "OpenAddressingHashMap  {'delete': 7.15e-06, 'get': 6.2e-06, 'insert':...   \n",
       "\n",
       "                                                              9900, 0.99  \\\n",
       "ChainHashMap           {'delete': 8.82e-06, 'get': 5.96e-06, 'insert'...   \n",
       "CuckooHashMap          {'delete': 6.91e-06, 'get': 1.7170000000000003...   \n",
       "OpenAddressingHashMap  {'delete': 8.58e-06, 'get': 6.44e-06, 'insert'...   \n",
       "\n",
       "                                                               9900, 1.0  \n",
       "ChainHashMap           {'delete': 8.58e-06, 'get': 6.6799999999999996...  \n",
       "CuckooHashMap          {'delete': 7.3899999999999995e-06, 'get': 6.2e...  \n",
       "OpenAddressingHashMap  {'delete': 7.87e-06, 'get': 6.44e-06, 'insert'...  \n",
       "\n",
       "[3 rows x 792 columns]"
      ],
      "text/html": "<div>\n<style scoped>\n    .dataframe tbody tr th:only-of-type {\n        vertical-align: middle;\n    }\n\n    .dataframe tbody tr th {\n        vertical-align: top;\n    }\n\n    .dataframe thead th {\n        text-align: right;\n    }\n</style>\n<table border=\"1\" class=\"dataframe\">\n  <thead>\n    <tr style=\"text-align: right;\">\n      <th></th>\n      <th>100, 0.0</th>\n      <th>100, 0.1</th>\n      <th>100, 0.25</th>\n      <th>100, 0.5</th>\n      <th>100, 0.75</th>\n      <th>100, 0.9</th>\n      <th>100, 0.99</th>\n      <th>100, 1.0</th>\n      <th>1000, 0.0</th>\n      <th>1000, 0.1</th>\n      <th>...</th>\n      <th>9800, 0.99</th>\n      <th>9800, 1.0</th>\n      <th>9900, 0.0</th>\n      <th>9900, 0.1</th>\n      <th>9900, 0.25</th>\n      <th>9900, 0.5</th>\n      <th>9900, 0.75</th>\n      <th>9900, 0.9</th>\n      <th>9900, 0.99</th>\n      <th>9900, 1.0</th>\n    </tr>\n  </thead>\n  <tbody>\n    <tr>\n      <th>ChainHashMap</th>\n      <td>{'delete': 1.4299999999999999e-06, 'get': 1.42...</td>\n      <td>{'delete': 3.1e-06, 'get': 1.6699999999999999e...</td>\n      <td>{'delete': 2.62e-06, 'get': 1.6699999999999999...</td>\n      <td>{'delete': 2.62e-06, 'get': 2.1499999999999997...</td>\n      <td>{'delete': 2.62e-06, 'get': 2.1499999999999997...</td>\n      <td>{'delete': 2.62e-06, 'get': 2.1499999999999997...</td>\n      <td>{'delete': 1.216e-05, 'get': 1.91e-06, 'insert...</td>\n      <td>{'delete': 2.62e-06, 'get': 1.6699999999999999...</td>\n      <td>{'delete': 1.1899999999999998e-06, 'get': 1.91...</td>\n      <td>{'delete': 3.6e-05, 'get': 1.5260000000000003e...</td>\n      <td>...</td>\n      <td>{'delete': 9.06e-06, 'get': 6.6799999999999996...</td>\n      <td>{'delete': 8.58e-06, 'get': 6.6799999999999996...</td>\n      <td>{'delete': 1.4299999999999999e-06, 'get': 2.85...</td>\n      <td>{'delete': 5.7199999999999994e-06, 'get': 4.53...</td>\n      <td>{'delete': 7.63e-06, 'get': 5.48e-06, 'insert'...</td>\n      <td>{'delete': 9.78e-06, 'get': 6.44e-06, 'insert'...</td>\n      <td>{'delete': 9.3e-06, 'get': 6.44e-06, 'insert':...</td>\n      <td>{'delete': 9.3e-06, 'get': 7.3899999999999995e...</td>\n      <td>{'delete': 8.82e-06, 'get': 5.96e-06, 'insert'...</td>\n      <td>{'delete': 8.58e-06, 'get': 6.6799999999999996...</td>\n    </tr>\n    <tr>\n      <th>CuckooHashMap</th>\n      <td>{'delete': 1.6699999999999999e-06, 'get': 1.66...</td>\n      <td>{'delete': 2.1499999999999997e-06, 'get': 1.91...</td>\n      <td>{'delete': 2.3799999999999997e-06, 'get': 1.42...</td>\n      <td>{'delete': 1.91e-06, 'get': 1.6699999999999999...</td>\n      <td>{'delete': 1.91e-06, 'get': 1.91e-06, 'insert'...</td>\n      <td>{'delete': 2.1499999999999997e-06, 'get': 2.14...</td>\n      <td>{'delete': 1.91e-06, 'get': 2.1499999999999997...</td>\n      <td>{'delete': 2.1499999999999997e-06, 'get': 1.91...</td>\n      <td>{'delete': 1.91e-06, 'get': 1.91e-06, 'insert'...</td>\n      <td>{'delete': 2.3799999999999997e-06, 'get': 5.71...</td>\n      <td>...</td>\n      <td>{'delete': 7.3899999999999995e-06, 'get': 6.91...</td>\n      <td>{'delete': 7.15e-06, 'get': 5.7199999999999994...</td>\n      <td>{'delete': 4.29e-06, 'get': 2.3799999999999997...</td>\n      <td>{'delete': 7.63e-06, 'get': 5.25e-06, 'insert'...</td>\n      <td>{'delete': 7.3899999999999995e-06, 'get': 5.96...</td>\n      <td>{'delete': 8.34e-06, 'get': 6.6799999999999996...</td>\n      <td>{'delete': 9.3e-06, 'get': 6.44e-06, 'insert':...</td>\n      <td>{'delete': 6.91e-06, 'get': 6.6799999999999996...</td>\n      <td>{'delete': 6.91e-06, 'get': 1.7170000000000003...</td>\n      <td>{'delete': 7.3899999999999995e-06, 'get': 6.2e...</td>\n    </tr>\n    <tr>\n      <th>OpenAddressingHashMap</th>\n      <td>{'delete': 1.1899999999999998e-06, 'get': 1.66...</td>\n      <td>{'delete': 2.1499999999999997e-06, 'get': 1.66...</td>\n      <td>{'delete': 1.91e-06, 'get': 1.6699999999999999...</td>\n      <td>{'delete': 2.1499999999999997e-06, 'get': 1.42...</td>\n      <td>{'delete': 1.91e-06, 'get': 1.4299999999999999...</td>\n      <td>{'delete': 2.3799999999999997e-06, 'get': 1.91...</td>\n      <td>{'delete': 2.1499999999999997e-06, 'get': 1.91...</td>\n      <td>{'delete': 1.1920000000000001e-05, 'get': 2.14...</td>\n      <td>{'delete': 1.6699999999999999e-06, 'get': 1.91...</td>\n      <td>{'delete': 2.8599999999999997e-06, 'get': 1.66...</td>\n      <td>...</td>\n      <td>{'delete': 7.87e-06, 'get': 6.44e-06, 'insert'...</td>\n      <td>{'delete': 7.63e-06, 'get': 5.96e-06, 'insert'...</td>\n      <td>{'delete': 3.3399999999999998e-06, 'get': 2.85...</td>\n      <td>{'delete': 6.2e-06, 'get': 4.29e-06, 'insert':...</td>\n      <td>{'delete': 5.25e-06, 'get': 4.29e-06, 'insert'...</td>\n      <td>{'delete': 7.3899999999999995e-06, 'get': 5.48...</td>\n      <td>{'delete': 7.87e-06, 'get': 6.6799999999999996...</td>\n      <td>{'delete': 7.15e-06, 'get': 6.2e-06, 'insert':...</td>\n      <td>{'delete': 8.58e-06, 'get': 6.44e-06, 'insert'...</td>\n      <td>{'delete': 7.87e-06, 'get': 6.44e-06, 'insert'...</td>\n    </tr>\n  </tbody>\n</table>\n<p>3 rows × 792 columns</p>\n</div>"
     },
     "metadata": {},
     "execution_count": 34
    }
   ],
   "source": [
    " data_pd = pd.read_json(\"measurement_results_10k.json\",orient=\"index\")\n",
    " data_pd"
   ]
  },
  {
   "cell_type": "code",
   "execution_count": 36,
   "metadata": {},
   "outputs": [],
   "source": [
    "hash_map_sizes_capacities = data_pd.columns"
   ]
  },
  {
   "cell_type": "code",
   "execution_count": 40,
   "metadata": {},
   "outputs": [
    {
     "output_type": "execute_result",
     "data": {
      "text/plain": [
       "'100, 0.0'"
      ]
     },
     "metadata": {},
     "execution_count": 40
    }
   ],
   "source": [
    "hash_map_sizes_capacities[0]"
   ]
  },
  {
   "cell_type": "code",
   "execution_count": 68,
   "metadata": {},
   "outputs": [
    {
     "output_type": "execute_result",
     "data": {
      "text/plain": [
       "{'delete': 1.4299999999999999e-06,\n",
       " 'get': 1.4299999999999999e-06,\n",
       " 'insert': 1.1440000000000002e-05}"
      ]
     },
     "metadata": {},
     "execution_count": 68
    }
   ],
   "source": [
    "data_pd.iloc[0, 0]"
   ]
  },
  {
   "source": [
    "list(data_pd.index)"
   ],
   "cell_type": "code",
   "metadata": {},
   "execution_count": 59,
   "outputs": [
    {
     "output_type": "execute_result",
     "data": {
      "text/plain": [
       "['ChainHashMap', 'CuckooHashMap', 'OpenAddressingHashMap']"
      ]
     },
     "metadata": {},
     "execution_count": 59
    }
   ]
  },
  {
   "cell_type": "code",
   "execution_count": 69,
   "metadata": {
    "tags": []
   },
   "outputs": [],
   "source": [
    "data = []\n",
    "for index, name in enumerate(list(data_pd.index)):\n",
    "    for results, size in zip(data_pd.iloc[index,:], hash_map_sizes_capacities):\n",
    "        data.append([name, size.split(',')[0], size.split(',')[1],results[\"insert\"],results[\"delete\"],results[\"get\"]])\n",
    "df = pd.DataFrame(data, columns=['method', 'elements_amount', 'density', 'insert', 'delete', 'get'])\n"
   ]
  },
  {
   "cell_type": "code",
   "execution_count": 73,
   "metadata": {},
   "outputs": [
    {
     "output_type": "execute_result",
     "data": {
      "text/plain": [
       "         method elements_amount density    insert    delete       get\n",
       "0  ChainHashMap             100     0.0  0.000011  0.000001  0.000001\n",
       "1  ChainHashMap             100     0.1  0.000003  0.000003  0.000002"
      ],
      "text/html": "<div>\n<style scoped>\n    .dataframe tbody tr th:only-of-type {\n        vertical-align: middle;\n    }\n\n    .dataframe tbody tr th {\n        vertical-align: top;\n    }\n\n    .dataframe thead th {\n        text-align: right;\n    }\n</style>\n<table border=\"1\" class=\"dataframe\">\n  <thead>\n    <tr style=\"text-align: right;\">\n      <th></th>\n      <th>method</th>\n      <th>elements_amount</th>\n      <th>density</th>\n      <th>insert</th>\n      <th>delete</th>\n      <th>get</th>\n    </tr>\n  </thead>\n  <tbody>\n    <tr>\n      <th>0</th>\n      <td>ChainHashMap</td>\n      <td>100</td>\n      <td>0.0</td>\n      <td>0.000011</td>\n      <td>0.000001</td>\n      <td>0.000001</td>\n    </tr>\n    <tr>\n      <th>1</th>\n      <td>ChainHashMap</td>\n      <td>100</td>\n      <td>0.1</td>\n      <td>0.000003</td>\n      <td>0.000003</td>\n      <td>0.000002</td>\n    </tr>\n  </tbody>\n</table>\n</div>"
     },
     "metadata": {},
     "execution_count": 73
    }
   ],
   "source": [
    "df.head(2)"
   ]
  },
  {
   "cell_type": "code",
   "execution_count": null,
   "metadata": {},
   "outputs": [],
   "source": []
  }
 ]
}
